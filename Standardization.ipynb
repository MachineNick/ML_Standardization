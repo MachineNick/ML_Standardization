{
 "cells": [
  {
   "cell_type": "code",
   "execution_count": 1,
   "id": "976c715f",
   "metadata": {},
   "outputs": [],
   "source": [
    "import pandas as pd\n",
    "import numpy as np\n",
    "import matplotlib.pyplot as plt\n",
    "import seaborn as sns\n"
   ]
  },
  {
   "cell_type": "markdown",
   "id": "3aae9ded",
   "metadata": {},
   "source": [
    "uploading file\n"
   ]
  },
  {
   "cell_type": "code",
   "execution_count": null,
   "id": "b8f48df3",
   "metadata": {},
   "outputs": [],
   "source": [
    "df = pd.read_csv('file_name.csv')\n",
    "df.sample(5)"
   ]
  },
  {
   "cell_type": "markdown",
   "id": "5cf50541",
   "metadata": {},
   "source": [
    "# Train test split\n"
   ]
  },
  {
   "cell_type": "code",
   "execution_count": 2,
   "id": "221f930b",
   "metadata": {},
   "outputs": [],
   "source": [
    "from sklearn.model_selection import train_test_split"
   ]
  },
  {
   "cell_type": "code",
   "execution_count": 3,
   "id": "b50ebc72",
   "metadata": {},
   "outputs": [
    {
     "ename": "SyntaxError",
     "evalue": "unmatched ')' (2094181308.py, line 1)",
     "output_type": "error",
     "traceback": [
      "\u001b[0;36m  Cell \u001b[0;32mIn[3], line 1\u001b[0;36m\u001b[0m\n\u001b[0;31m    X_train,X_test,Y_train,Y_test=train_test_split(df.drop('extra_column'),axis=1),df['extra_column'],test_size=0.3,random_state=0)\u001b[0m\n\u001b[0m                                                                                                                                  ^\u001b[0m\n\u001b[0;31mSyntaxError\u001b[0m\u001b[0;31m:\u001b[0m unmatched ')'\n"
     ]
    }
   ],
   "source": []
  },
  {
   "cell_type": "code",
   "execution_count": null,
   "id": "4f47d413",
   "metadata": {},
   "outputs": [],
   "source": [
    "X_train, X_test, Y_train, Y_test = train_test_split(df.drop('Result_column', axis=1),\n",
    "df[ 'result_column'],\n",
    "test_size=0.3, random_state=0)"
   ]
  },
  {
   "cell_type": "markdown",
   "id": "05e102da",
   "metadata": {},
   "source": [
    "# standard scaler\n"
   ]
  },
  {
   "cell_type": "code",
   "execution_count": null,
   "id": "0b78b04e",
   "metadata": {},
   "outputs": [],
   "source": [
    "from sklearn.preprocessing import StandardScaler\n",
    "scaler = StandardScaler\n",
    "# fit the scaler to the train set, it will learn the parameters\n",
    "scaler.fit （X_train）\n",
    "# transform train and test sets\n",
    "X_train_scaled = scaler.transform(X_train)\n",
    "X_test_scaled = scaler. transform(X_test)\n"
   ]
  },
  {
   "cell_type": "code",
   "execution_count": null,
   "id": "7f228a26",
   "metadata": {},
   "outputs": [],
   "source": [
    "scaler.mean_"
   ]
  },
  {
   "cell_type": "code",
   "execution_count": 4,
   "id": "15675180",
   "metadata": {},
   "outputs": [],
   "source": [
    "## converting scaled array into dataframe\n",
    "X_train_scaled = pd.DataFrame(X_train_scaled, columns=X_train.columns)\n",
    "X_test_scaled = pd.DataFrame(X_test_scaled, columns=X_test.columns)"
   ]
  },
  {
   "cell_type": "code",
   "execution_count": null,
   "id": "214aecc9",
   "metadata": {},
   "outputs": [],
   "source": [
    "#comparing old vs scaled data\n",
    "np.round(X_train.describe(), 1)\n",
    "np.round(K_train_scaled.describe(), 1)"
   ]
  },
  {
   "cell_type": "markdown",
   "id": "92439053",
   "metadata": {},
   "source": [
    "# effect of scaling old vs scaled_data"
   ]
  },
  {
   "cell_type": "code",
   "execution_count": null,
   "id": "a180edb7",
   "metadata": {},
   "outputs": [],
   "source": [
    "fig,(ax1, ax2) = plt.subplots(ncols=2, figsize=(12, 5))\n",
    "ax1.scatter(X_train['Age'], X_train['EstimatedSalary'])\n",
    "ax1.set_title(\"Before Scaling\")\n",
    "ax2.scatter(X_train_scaled[ 'Age'],X_train_scaled[ 'EstimatedSalary'], color='red' )\n",
    "ax2.set_title(\"After Scaling\")\n",
    "plt.show\n"
   ]
  },
  {
   "cell_type": "markdown",
   "id": "e29b8e8e",
   "metadata": {},
   "source": [
    "# benefit of scaling before/after scaling\n"
   ]
  },
  {
   "cell_type": "code",
   "execution_count": null,
   "id": "a6192fe4",
   "metadata": {},
   "outputs": [],
   "source": [
    "fig, (ax1, ax2) = plt.subplots(ncols=2, figsize=(12, 5))\n",
    "# before scaling\n",
    "ax1.set_title('Before Scaling')\n",
    "sns.kdeplot(X_train[ 'Age'], ax=ax1)\n",
    "sns.kdeplot(X_train['EstimatedSalary'],ax=ax1)\n",
    "# after scaling\n",
    "ax2.set_title('After Standard Scaling')\n",
    "sns.kdeplot(X_train_scaled[ 'Age'], ax=ax2)\n",
    "sns.kdeplot(X_train_scaled[ 'EstimatedSalary'], ax=ax2)\n",
    "plt.show()"
   ]
  },
  {
   "cell_type": "markdown",
   "id": "38100281",
   "metadata": {},
   "source": [
    "# comparison for age"
   ]
  },
  {
   "cell_type": "code",
   "execution_count": null,
   "id": "8251fb94",
   "metadata": {},
   "outputs": [],
   "source": [
    "fig, (axl, ax2) = plt.subplots(ncols=2, figsize=(12, 5))\n",
    "# before scaling\n",
    "axi.set_title('Age Distribution Before Scaling') \n",
    "sns.kdeplot(X_train[ 'Age'], ax=ax1)\n",
    "# after scaling\n",
    "ax2. set_title('Age Distribution After Standard Scaling') \n",
    "sns. kdeplot(X_train_scaled['Age'], ax=ax2)\n",
    "plt. show()\n",
    "Age Distribution"
   ]
  },
  {
   "cell_type": "markdown",
   "id": "393a560c",
   "metadata": {},
   "source": [
    "# comparison for age"
   ]
  },
  {
   "cell_type": "code",
   "execution_count": null,
   "id": "fcd90f13",
   "metadata": {},
   "outputs": [],
   "source": [
    "fig, (ax1, ax2) = plt.subplots(ncols=2, figsize=(12, 5))\n",
    "# before scaling\n",
    "ax1.set_title('Salary Distribution Before Scaling') \n",
    "sns.kdeplot(X_train['EstimatedSalary'], ax=ax1)\n",
    "# after scaling\n",
    "ax2. set_title('Salary Distribution Standard Scaling')\n",
    "sns.kdeplot(X_train_scaled[ 'EstimatedSalary'], ax=ax2)\n",
    "plt.show()"
   ]
  },
  {
   "cell_type": "markdown",
   "id": "4857482f",
   "metadata": {},
   "source": [
    "# why scaling is important"
   ]
  },
  {
   "cell_type": "code",
   "execution_count": null,
   "id": "f030261b",
   "metadata": {},
   "outputs": [],
   "source": [
    "from sklearn. linear_model import LogisticRegression\n",
    "lr = LogisticRegression()\n",
    "lr_scaled = LogisticRegression()\n",
    "lr.fit(X_train,y_train)\n",
    "Ir_scaled.fit(X_train_scaled,y_train)\n",
    "\n"
   ]
  },
  {
   "cell_type": "markdown",
   "id": "132c5fa2",
   "metadata": {},
   "source": [
    "\n",
    "# logistic Regression"
   ]
  },
  {
   "cell_type": "code",
   "execution_count": null,
   "id": "972c3b23",
   "metadata": {},
   "outputs": [],
   "source": [
    "y_pred = lr.predict(X_test)\n",
    "y_pred_scaled = lr_scaled predict(X_test_scaled)\n"
   ]
  },
  {
   "cell_type": "markdown",
   "id": "0ee93289",
   "metadata": {},
   "source": [
    "# checking accuracy"
   ]
  },
  {
   "cell_type": "code",
   "execution_count": null,
   "id": "798e6681",
   "metadata": {},
   "outputs": [],
   "source": [
    "from sklearn metrics import accuracy_score"
   ]
  },
  {
   "cell_type": "code",
   "execution_count": null,
   "id": "97933233",
   "metadata": {},
   "outputs": [],
   "source": [
    "print(\"Actual\", accuracy_score(y_test,y_pred))\n",
    "print(\"Scaled\", accuracy_score(y_test, y_pred_scaled))"
   ]
  },
  {
   "cell_type": "code",
   "execution_count": null,
   "id": "9b9176e3",
   "metadata": {},
   "outputs": [],
   "source": []
  }
 ],
 "metadata": {
  "kernelspec": {
   "display_name": "Python 3 (ipykernel)",
   "language": "python",
   "name": "python3"
  },
  "language_info": {
   "codemirror_mode": {
    "name": "ipython",
    "version": 3
   },
   "file_extension": ".py",
   "mimetype": "text/x-python",
   "name": "python",
   "nbconvert_exporter": "python",
   "pygments_lexer": "ipython3",
   "version": "3.11.7"
  }
 },
 "nbformat": 4,
 "nbformat_minor": 5
}
